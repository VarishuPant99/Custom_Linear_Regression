{
 "cells": [
  {
   "cell_type": "markdown",
   "metadata": {},
   "source": [
    "## Custom Linear Regression Function"
   ]
  },
  {
   "cell_type": "markdown",
   "metadata": {},
   "source": [
    "-Varishu Pant"
   ]
  },
  {
   "cell_type": "markdown",
   "metadata": {},
   "source": [
    "#### Aim-\n",
    "This function aims to fit linear regression model on given data set while giving user the ability to choose between solution approach,and validation techniques."
   ]
  },
  {
   "cell_type": "markdown",
   "metadata": {},
   "source": [
    "### Importing Required Libraries"
   ]
  },
  {
   "cell_type": "code",
   "execution_count": 1,
   "metadata": {},
   "outputs": [],
   "source": [
    "import pandas as pd\n",
    "import numpy as np\n",
    "import statsmodels.tools as stm\n",
    "import statsmodels.api as stmapi\n",
    "import time\n",
    "\n",
    "import matplotlib.pyplot as plt"
   ]
  },
  {
   "cell_type": "markdown",
   "metadata": {},
   "source": [
    "#### MtCars Dataset Used for Demonstration"
   ]
  },
  {
   "cell_type": "code",
   "execution_count": 24,
   "metadata": {},
   "outputs": [],
   "source": [
    "data=pd.read_csv(r'C:\\Users\\Varishu Pant\\Desktop\\Praxis docs\\Excel\\cars.csv')"
   ]
  },
  {
   "cell_type": "code",
   "execution_count": 94,
   "metadata": {},
   "outputs": [
    {
     "data": {
      "text/plain": [
       "(406, 9)"
      ]
     },
     "execution_count": 94,
     "metadata": {},
     "output_type": "execute_result"
    }
   ],
   "source": [
    "data.shape"
   ]
  },
  {
   "cell_type": "code",
   "execution_count": 97,
   "metadata": {},
   "outputs": [
    {
     "data": {
      "text/html": [
       "<div>\n",
       "<style scoped>\n",
       "    .dataframe tbody tr th:only-of-type {\n",
       "        vertical-align: middle;\n",
       "    }\n",
       "\n",
       "    .dataframe tbody tr th {\n",
       "        vertical-align: top;\n",
       "    }\n",
       "\n",
       "    .dataframe thead th {\n",
       "        text-align: right;\n",
       "    }\n",
       "</style>\n",
       "<table border=\"1\" class=\"dataframe\">\n",
       "  <thead>\n",
       "    <tr style=\"text-align: right;\">\n",
       "      <th></th>\n",
       "      <th>MPG</th>\n",
       "      <th>Cylinders</th>\n",
       "      <th>Displacement</th>\n",
       "      <th>Horsepower</th>\n",
       "      <th>Weight</th>\n",
       "      <th>Acceleration</th>\n",
       "      <th>Model</th>\n",
       "    </tr>\n",
       "  </thead>\n",
       "  <tbody>\n",
       "    <tr>\n",
       "      <th>count</th>\n",
       "      <td>406.000000</td>\n",
       "      <td>406.000000</td>\n",
       "      <td>406.000000</td>\n",
       "      <td>406.000000</td>\n",
       "      <td>406.000000</td>\n",
       "      <td>406.000000</td>\n",
       "      <td>406.000000</td>\n",
       "    </tr>\n",
       "    <tr>\n",
       "      <th>mean</th>\n",
       "      <td>23.051232</td>\n",
       "      <td>5.475369</td>\n",
       "      <td>194.779557</td>\n",
       "      <td>103.529557</td>\n",
       "      <td>2979.413793</td>\n",
       "      <td>15.519704</td>\n",
       "      <td>75.921182</td>\n",
       "    </tr>\n",
       "    <tr>\n",
       "      <th>std</th>\n",
       "      <td>8.401777</td>\n",
       "      <td>1.712160</td>\n",
       "      <td>104.922458</td>\n",
       "      <td>40.520659</td>\n",
       "      <td>847.004328</td>\n",
       "      <td>2.803359</td>\n",
       "      <td>3.748737</td>\n",
       "    </tr>\n",
       "    <tr>\n",
       "      <th>min</th>\n",
       "      <td>0.000000</td>\n",
       "      <td>3.000000</td>\n",
       "      <td>68.000000</td>\n",
       "      <td>0.000000</td>\n",
       "      <td>1613.000000</td>\n",
       "      <td>8.000000</td>\n",
       "      <td>70.000000</td>\n",
       "    </tr>\n",
       "    <tr>\n",
       "      <th>25%</th>\n",
       "      <td>17.000000</td>\n",
       "      <td>4.000000</td>\n",
       "      <td>105.000000</td>\n",
       "      <td>75.000000</td>\n",
       "      <td>2226.500000</td>\n",
       "      <td>13.700000</td>\n",
       "      <td>73.000000</td>\n",
       "    </tr>\n",
       "    <tr>\n",
       "      <th>50%</th>\n",
       "      <td>22.350000</td>\n",
       "      <td>4.000000</td>\n",
       "      <td>151.000000</td>\n",
       "      <td>93.500000</td>\n",
       "      <td>2822.500000</td>\n",
       "      <td>15.500000</td>\n",
       "      <td>76.000000</td>\n",
       "    </tr>\n",
       "    <tr>\n",
       "      <th>75%</th>\n",
       "      <td>29.000000</td>\n",
       "      <td>8.000000</td>\n",
       "      <td>302.000000</td>\n",
       "      <td>129.000000</td>\n",
       "      <td>3618.250000</td>\n",
       "      <td>17.175000</td>\n",
       "      <td>79.000000</td>\n",
       "    </tr>\n",
       "    <tr>\n",
       "      <th>max</th>\n",
       "      <td>46.600000</td>\n",
       "      <td>8.000000</td>\n",
       "      <td>455.000000</td>\n",
       "      <td>230.000000</td>\n",
       "      <td>5140.000000</td>\n",
       "      <td>24.800000</td>\n",
       "      <td>82.000000</td>\n",
       "    </tr>\n",
       "  </tbody>\n",
       "</table>\n",
       "</div>"
      ],
      "text/plain": [
       "              MPG   Cylinders  Displacement  Horsepower       Weight  \\\n",
       "count  406.000000  406.000000    406.000000  406.000000   406.000000   \n",
       "mean    23.051232    5.475369    194.779557  103.529557  2979.413793   \n",
       "std      8.401777    1.712160    104.922458   40.520659   847.004328   \n",
       "min      0.000000    3.000000     68.000000    0.000000  1613.000000   \n",
       "25%     17.000000    4.000000    105.000000   75.000000  2226.500000   \n",
       "50%     22.350000    4.000000    151.000000   93.500000  2822.500000   \n",
       "75%     29.000000    8.000000    302.000000  129.000000  3618.250000   \n",
       "max     46.600000    8.000000    455.000000  230.000000  5140.000000   \n",
       "\n",
       "       Acceleration       Model  \n",
       "count    406.000000  406.000000  \n",
       "mean      15.519704   75.921182  \n",
       "std        2.803359    3.748737  \n",
       "min        8.000000   70.000000  \n",
       "25%       13.700000   73.000000  \n",
       "50%       15.500000   76.000000  \n",
       "75%       17.175000   79.000000  \n",
       "max       24.800000   82.000000  "
      ]
     },
     "execution_count": 97,
     "metadata": {},
     "output_type": "execute_result"
    }
   ],
   "source": [
    "data.describe()"
   ]
  },
  {
   "cell_type": "markdown",
   "metadata": {},
   "source": [
    "For Open Form Solution,function normalizes data"
   ]
  },
  {
   "cell_type": "markdown",
   "metadata": {},
   "source": [
    "### Custom Linear Regression Function"
   ]
  },
  {
   "cell_type": "markdown",
   "metadata": {},
   "source": [
    "Takes in dataframe,and list of variables for predictors(x) and target(y)\n",
    "User can choose between open or closed form solution and 2 cross validation techniques-namely K-Fold Cross validation and Leave one out cross validation"
   ]
  },
  {
   "cell_type": "code",
   "execution_count": 117,
   "metadata": {},
   "outputs": [],
   "source": [
    "def custom_lr(data,x,y):\n",
    "    soln=input('Solution Form:Open[Gradient Descent](O) or Closed[OLS](C):')\n",
    "    validation=input('Cross-Validation:K-Fold(k) or Leave One out(l):')\n",
    "    if validation=='k':\n",
    "        ks=int(input('Enter k:'))\n",
    "        cv_predict(data,x,y,soln,k=ks)\n",
    "    elif validation=='l':\n",
    "        loocv_predict(data,x,y,soln)\n",
    "    else:\n",
    "        print('Invalid Entry,type k or l')"
   ]
  },
  {
   "cell_type": "markdown",
   "metadata": {},
   "source": [
    "### Demonstration"
   ]
  },
  {
   "cell_type": "markdown",
   "metadata": {},
   "source": [
    "#### Open Form using 5-Fold C.V"
   ]
  },
  {
   "cell_type": "code",
   "execution_count": 93,
   "metadata": {},
   "outputs": [
    {
     "name": "stdout",
     "output_type": "stream",
     "text": [
      "Solution Form:Open[Gradient Descent](O) or Closed[OLS](C):O\n",
      "Cross-Validation:K-Fold(k) or Leave One out(l):k\n",
      "Enter k:5\n",
      "Learning Rate:0.001\n",
      "Tolerance:0.01\n",
      "One of the models for your general understanding:\n",
      "Intercept: 0.7802936012936587\n",
      "Parameters: {'B1': -0.4072746955342833, 'B2': -0.21658122749392017, 'B3': -0.05763295259645001}\n",
      "Average RSS: 354.9169613882736\n"
     ]
    }
   ],
   "source": [
    "custom_lr(data,x=['Weight','Horsepower','Cylinders'],y='MPG')"
   ]
  },
  {
   "cell_type": "markdown",
   "metadata": {},
   "source": [
    "Function asks for open or closed form solution-Input given was O for Open form\n",
    "Then function asks for cross validation techniques-Input given was k for K-Fold.\n",
    "Function asks for number of folds(K)- input given was 5 (Default =5)\n",
    "Since Open form was selected,function asks for tolerance and learning rate..\n",
    "Out of all models trained,function spits out last one for a general understanding of the weights.\n",
    "Also average Residual Sum of Squares is printed for model accuracy"
   ]
  },
  {
   "cell_type": "markdown",
   "metadata": {},
   "source": [
    "#### Open Form using Leave One out C.V"
   ]
  },
  {
   "cell_type": "code",
   "execution_count": 98,
   "metadata": {},
   "outputs": [
    {
     "name": "stdout",
     "output_type": "stream",
     "text": [
      "Solution Form:Open[Gradient Descent](O) or Closed[OLS](C):O\n",
      "Cross-Validation:K-Fold(k) or Leave One out(l):l\n",
      "Learning Rate:0.001\n",
      "Tolerance:0.01\n",
      "One of the models for your general understanding:\n",
      "Intercept: 0.742565642343966\n",
      "Parameters: {'B1': -0.46658815229820444, 'B2': -0.1846693392596126, 'B3': 0.035078957700797005}\n",
      "Average RSS: 8.948412310636611\n"
     ]
    }
   ],
   "source": [
    "custom_lr(data,x=['Weight','Horsepower','Acceleration'],y='MPG')"
   ]
  },
  {
   "cell_type": "markdown",
   "metadata": {},
   "source": [
    "#### Closed Form using 4-Fold C.V"
   ]
  },
  {
   "cell_type": "code",
   "execution_count": 103,
   "metadata": {},
   "outputs": [
    {
     "name": "stdout",
     "output_type": "stream",
     "text": [
      "Solution Form:Open[Gradient Descent](O) or Closed[OLS](C):C\n",
      "Cross-Validation:K-Fold(k) or Leave One out(l):k\n",
      "Enter k:4\n",
      "One of the models for your general understanding:\n",
      "Weights: [[ 0.75143278]\n",
      " [-0.42222072]\n",
      " [-0.11877358]\n",
      " [-0.07514557]]\n",
      "\n",
      "Average RSS: 1.5938611613518017\n"
     ]
    }
   ],
   "source": [
    "normalized_data=data[['Weight','Horsepower','Displacement','Cylinders','MPG']].apply(lambda x:(x-np.min(x))/(np.max(x)-np.min(x)))\n",
    "\n",
    "custom_lr(normalized_data,x=['Weight','Horsepower','Cylinders'],y='MPG')  "
   ]
  },
  {
   "cell_type": "markdown",
   "metadata": {},
   "source": [
    "#### Closed Form using LOOCV"
   ]
  },
  {
   "cell_type": "markdown",
   "metadata": {},
   "source": [
    "To get similar results using closed form solution,we feed normalized data to the function"
   ]
  },
  {
   "cell_type": "code",
   "execution_count": 104,
   "metadata": {},
   "outputs": [
    {
     "name": "stdout",
     "output_type": "stream",
     "text": [
      "Solution Form:Open[Gradient Descent](O) or Closed[OLS](C):C\n",
      "Cross-Validation:K-Fold(k) or Leave One out(l):l\n",
      "One of the models for your general understanding:\n",
      "Weights: [[ 0.7627041 ]\n",
      " [-0.40238162]\n",
      " [-0.19694794]\n",
      " [-0.02759752]\n",
      " [-0.02975016]]\n",
      "Average RSS: 5.235262530734401\n"
     ]
    }
   ],
   "source": [
    "normalized_data=data[['Weight','Horsepower','Displacement','Cylinders','MPG']].apply(lambda x:(x-np.min(x))/(np.max(x)-np.min(x)))\n",
    "\n",
    "custom_lr(normalized_data,x=['Weight','Horsepower','Displacement','Cylinders'],y='MPG')  "
   ]
  },
  {
   "cell_type": "markdown",
   "metadata": {},
   "source": [
    "### Functions used behind the scenes-"
   ]
  },
  {
   "cell_type": "markdown",
   "metadata": {},
   "source": [
    "#### K-Fold Cross Validation"
   ]
  },
  {
   "cell_type": "code",
   "execution_count": 112,
   "metadata": {},
   "outputs": [],
   "source": [
    "def cv_predict(data,x,y,soln,k=5):\n",
    "    import math\n",
    "    import numpy as np\n",
    "    if k==0 or k==1 or k<0:\n",
    "        return('Value Error:Try k>1')\n",
    "    \n",
    "    cv_error=[]\n",
    "    if soln=='C':\n",
    "        hold_indices=[]\n",
    "        \n",
    "        fold_size=1/k\n",
    "        for i in range(k):\n",
    "            data_indices=[]\n",
    "            for i in data.index:\n",
    "                if i not in hold_indices:\n",
    "                    data_indices.append(i)\n",
    "            hold_indices=np.random.choice(data_indices, round(fold_size*len(data.index)), replace=False)\n",
    "            train_indices=[]\n",
    "            for j in data.index:\n",
    "                if j not in hold_indices:\n",
    "                    train_indices.append(j)\n",
    "            hold_data=data.loc[hold_indices,:]\n",
    "            train_data=data.loc[train_indices,:]\n",
    "            X_train=train_data[x]\n",
    "            Y_train=train_data[[y]]\n",
    "            X_test=hold_data[x]\n",
    "            Y_test=hold_data[[y]]\n",
    "\n",
    "        \n",
    "            b=mlrm(x,y,xtrain=X_train,ytrain=Y_train)\n",
    "            preds=[]\n",
    "            for j in range(0,X_test.shape[0]):\n",
    "                xrow=X_test[j:j+1].values[0]\n",
    "                test=0\n",
    "            \n",
    "                for i in range(1,len(b)):\n",
    "                    c=0\n",
    "                    test+=b[i]*xrow[c]\n",
    "                    c+=1\n",
    "                pred=test+b[0]\n",
    "                preds.append(pred)\n",
    "            e = np.array(Y_test) - np.array(preds)\n",
    "            rss= np.sum(e**2)\n",
    "            \n",
    "            cv_error.append(rss)\n",
    "        print('One of the models for your general understanding:')\n",
    "        print('Weights:',b)\n",
    "        \n",
    "        print()\n",
    "        avg_error=np.mean(cv_error)\n",
    "  \n",
    "    \n",
    "    elif soln=='O':\n",
    "        learning_rate=float(input('Learning Rate:'))\n",
    "        tolerance=float(input('Tolerance:'))   \n",
    "        hold_indices=[]\n",
    "        subset=x.copy()\n",
    "        subset.append(y)\n",
    "        data=data[subset].apply(lambda x:(x-np.min(x))/(np.max(x)-np.min(x)))\n",
    "\n",
    "        fold_size=1/k\n",
    "        for i in range(k):\n",
    "            data_indices=[]\n",
    "            for i in data.index:\n",
    "                if i not in hold_indices:\n",
    "                    data_indices.append(i)\n",
    "            hold_indices=np.random.choice(data_indices, round(fold_size*len(data.index)), replace=False)\n",
    "            train_indices=[]\n",
    "            for j in data.index:\n",
    "                if j not in hold_indices:\n",
    "                    train_indices.append(j)\n",
    "            hold_data=data.loc[hold_indices,:]\n",
    "            train_data=data.loc[train_indices,:]\n",
    "            X_train=train_data[x]\n",
    "            Y_train=train_data[[y]]\n",
    "            X_test=hold_data[x]\n",
    "            Y_test=hold_data[[y]]\n",
    "\n",
    "            dict = lr_with_gd(xtrain=X_train,ytrain=Y_train,y=y,x=x,tolerance=tolerance,learning_rate=learning_rate)\n",
    "\n",
    "            intercept=dict.pop('B0')\n",
    "            preds=[]\n",
    "            for j in range(0,X_test.shape[0]):\n",
    "                xrow=X_test[j:j+1].values[0]\n",
    "                test=0\n",
    "                for i in range(1,len(dict.keys())):\n",
    "                    c=0\n",
    "                    test+=dict['B'+str(i)]*xrow[c]\n",
    "                    c+=1\n",
    "                pred=test+intercept\n",
    "                preds.append(pred)\n",
    "            e = np.array(Y_test) - np.array(preds)\n",
    "            rss=np.sum(e**2)\n",
    "            cv_error.append(rss)\n",
    "        avg_error=np.mean(cv_error)\n",
    "        print('One of the models for your general understanding:')\n",
    "        print('Intercept:',intercept)\n",
    "        print('Parameters:',dict)\n",
    "    else:\n",
    "        print('Invalid Entry,Type O or C')\n",
    "        return()\n",
    "    print('Average RSS:',avg_error)\n",
    "    "
   ]
  },
  {
   "cell_type": "markdown",
   "metadata": {},
   "source": [
    "#### Leave One Out Cross Validation"
   ]
  },
  {
   "cell_type": "code",
   "execution_count": 113,
   "metadata": {},
   "outputs": [],
   "source": [
    "def loocv_predict(data,x,y,soln):\n",
    "    loocv_error=[]\n",
    "    if soln=='O':\n",
    "        learning_rate=float(input('Learning Rate:'))\n",
    "        tolerance=float(input('Tolerance:'))\n",
    "        subset=x.copy()\n",
    "        subset.append(y)\n",
    "\n",
    "        data=data[subset].apply(lambda x:(x-np.min(x))/(np.max(x)-np.min(x)))\n",
    "        rss=0\n",
    "        for i in range(0,len(data.index)):\n",
    "            hold_data=data.loc[i,:]\n",
    "            \n",
    "            X_test=hold_data[x]\n",
    "            Y_test=hold_data[[y]]\n",
    "            train_data=data.drop(index=i,axis=0)\n",
    "            X_train=train_data[x]\n",
    "            Y_train=train_data[[y]]\n",
    "\n",
    "            dict = lr_with_gd(xtrain=X_train,ytrain=Y_train,y=y,x=x,tolerance=tolerance,learning_rate=learning_rate)\n",
    "            test=0\n",
    "            \n",
    "            intercept=dict.pop('B0')\n",
    "            for i in range(1,len(dict.keys())):\n",
    "                test+=dict['B'+str(i)]*X_test[i]\n",
    "                \n",
    "            pred=test+intercept\n",
    "            e = Y_test - pred\n",
    "            rss +=e**2\n",
    "            loocv_error.append(rss)\n",
    "        print('One of the models for your general understanding:')\n",
    "        print('Intercept:',intercept)\n",
    "        print('Parameters:',dict)\n",
    "            \n",
    "    elif soln=='C':\n",
    "        rss=0\n",
    "        for i in range(0,len(data.index)):\n",
    "            hold_data=data.loc[i,:]\n",
    "            X_test=hold_data[x]\n",
    "            Y_test=hold_data[[y]]\n",
    "            train_data=data.drop(index=i,axis=0)\n",
    "            X_train=train_data[x]\n",
    "            Y_train=train_data[[y]]\n",
    "\n",
    "            b=mlrm(x,y,xtrain=X_train,ytrain=Y_train)\n",
    "            test=0\n",
    " \n",
    "            for i in range(1,len(b)):\n",
    "                c=0\n",
    "                test+=b[i]*X_test[c]\n",
    "                c+=1\n",
    "            pred=test+b[0]\n",
    "            e = Y_test - pred\n",
    "            rss +=e**2 \n",
    "            loocv_error.append(rss)\n",
    "           \n",
    "        print('One of the models for your general understanding:')\n",
    "        print('Weights:',b)\n",
    "    else:\n",
    "        print('Invalid entry,Type O or C')\n",
    "        return()\n",
    "    avg_error=np.mean(loocv_error)\n",
    "    print('Average RSS:',avg_error)"
   ]
  },
  {
   "cell_type": "markdown",
   "metadata": {},
   "source": [
    "#### Open Form Solution (Gradient Descent)"
   ]
  },
  {
   "cell_type": "code",
   "execution_count": 5,
   "metadata": {},
   "outputs": [],
   "source": [
    "def lr_with_gd(xtrain,ytrain,x,y,tolerance,learning_rate):\n",
    "        xs=len(x)\n",
    "        y=ytrain\n",
    "        x=xtrain\n",
    "        Y=np.matrix(y)                                                  \n",
    "        Y=Y.reshape(Y.shape[0],1)\n",
    "\n",
    "        X=stm.add_constant(x)                                          #Adding column for calculating intercept\n",
    "        X=np.matrix(X)\n",
    "\n",
    "        b=np.array(np.zeros(X.shape[1]))                               #Initializing weights\n",
    "        b=b.reshape(b.shape[0],1)\n",
    "        dict={}\n",
    "        \n",
    "        for i in range(xs+1):\n",
    "            dict['B'+str(i)]=0\n",
    "        RSS=[] \n",
    "        niter=0\n",
    "        convergence_criteria=1                                         #Initializing convergence criteria    \n",
    "        iter=[]\n",
    "\n",
    "          \n",
    "        while convergence_criteria > tolerance:                        #Loop runs til convergence criteria is greater\n",
    "                                                                       #than tolerance level\n",
    "            niter+=1                                                   #Counting iterations\n",
    "            iter.append(niter)\n",
    "\n",
    "            rss=np.matmul(np.transpose(X),(Y - np.matmul(X, b)))       #Calculating Residual Sum of Squares\n",
    "\n",
    "            convergence_criteria=np.abs(np.linalg.norm(rss))           #Calculating convergence criteria\n",
    "            RSS.append(convergence_criteria)\n",
    "\n",
    "            b=b+2*learning_rate*rss                                    #Updating weights\n",
    "\n",
    "    \n",
    "        for i in range(xs+1):\n",
    "            dict['B'+str(i)]=float(b[i])\n",
    "        return(dict)"
   ]
  },
  {
   "cell_type": "markdown",
   "metadata": {},
   "source": [
    "#### Closed Form Solution(OLS)"
   ]
  },
  {
   "cell_type": "code",
   "execution_count": 20,
   "metadata": {},
   "outputs": [],
   "source": [
    "def mlrm(x,y,xtrain,ytrain):\n",
    "    x=xtrain[x]\n",
    "    y=ytrain[[y]]\n",
    "    x=stm.add_constant(x.values)\n",
    "    xt=np.transpose(x)\n",
    "    b=np.matmul(np.matmul(np.linalg.inv(np.matmul(xt,x)),xt),y.values)\n",
    "    return(b)\n"
   ]
  }
 ],
 "metadata": {
  "kernelspec": {
   "display_name": "Python 3",
   "language": "python",
   "name": "python3"
  },
  "language_info": {
   "codemirror_mode": {
    "name": "ipython",
    "version": 3
   },
   "file_extension": ".py",
   "mimetype": "text/x-python",
   "name": "python",
   "nbconvert_exporter": "python",
   "pygments_lexer": "ipython3",
   "version": "3.7.3"
  }
 },
 "nbformat": 4,
 "nbformat_minor": 2
}
